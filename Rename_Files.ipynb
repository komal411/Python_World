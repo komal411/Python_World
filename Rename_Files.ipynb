{
 "metadata": {
  "name": "",
  "signature": "sha256:71e5797d91ed957bab4a785060b897b923e85ce4be4bfc5ec1d67184c8a43bb9"
 },
 "nbformat": 3,
 "nbformat_minor": 0,
 "worksheets": [
  {
   "cells": [
    {
     "cell_type": "code",
     "collapsed": false,
     "input": [
      "import os\n",
      "def rename_files():\n",
      "    file_list= os.listdir(\"/home/komal/Desktop/Unzipped prank/Miniproject_cp/\")\n",
      "    print file_list\n",
      "    \n",
      "    for file_name in file_list:\n",
      "        New_FileName= os.rename(\"/home/komal/Desktop/Unzipped prank/Miniproject_cp/\"+file_name,\"/home/komal/Desktop/Unzipped prank/Miniproject_cp/\"+file_name.translate(None,\"0123456789\"))\n",
      "    \n",
      "rename_files()"
     ],
     "language": "python",
     "metadata": {},
     "outputs": [
      {
       "output_type": "stream",
       "stream": "stdout",
       "text": [
        "['30aci.jpg', '3acd.jpg', '12acj.jpg', '1ab.jpg', 'acg234.jpg', '5a.jpg', 'ach23.jpg', '12abc.jpg', '2ace.jpg', '0acf.jpg', 'acb43.jpg', '10ac.jpg', '4acc.jpg']\n"
       ]
      }
     ],
     "prompt_number": 17
    },
    {
     "cell_type": "code",
     "collapsed": false,
     "input": [],
     "language": "python",
     "metadata": {},
     "outputs": []
    }
   ],
   "metadata": {}
  }
 ]
}