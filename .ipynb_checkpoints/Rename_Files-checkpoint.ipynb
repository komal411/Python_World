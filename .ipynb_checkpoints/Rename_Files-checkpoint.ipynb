{
 "metadata": {
  "name": "",
  "signature": "sha256:b8a4c29e935809170e9046b811ca256ba21c25b4866c41f1865ecd8ecbaf376c"
 },
 "nbformat": 3,
 "nbformat_minor": 0,
 "worksheets": []
}