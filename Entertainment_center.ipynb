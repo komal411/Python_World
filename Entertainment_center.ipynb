{
 "cells": [
  {
   "cell_type": "code",
   "execution_count": 1,
   "metadata": {
    "collapsed": false
   },
   "outputs": [
    {
     "name": "stdout",
     "output_type": "stream",
     "text": [
      "This class contains some documents of my favourite movie\n"
     ]
    }
   ],
   "source": [
    "from media import *\n",
    "import fresh_tomatoes\n",
    "toy_story=Movie(\"Toy Story\",\n",
    "                      \"A story of a boy and his Toys that come to the life.\",\n",
    "                     \"https://upload.wikimedia.org/wikipedia/en/1/13/Toy_Story.jpg\",\n",
    "                     \"https://www.youtube.com/watch?v=KYz2wyBy3kc\")\n",
    "#print (toy_story.storyline)\n",
    "\n",
    "avatar=Movie(\"Avatar\",\"A marine on an alien planet\",\n",
    "            \"https://upload.wikimedia.org/wikipedia/en/b/b0/Avatar-Teaser-Poster.jpg\",\n",
    "            \"https://www.youtube.com/watch?v=cRdxXPV9GNQ\")\n",
    "#print(avatar.storyline)\n",
    "\n",
    "#avatar.show_trailer()\n",
    "\n",
    "Idiots=Movie(\"3 Idiots\",\"Based on novel Five Point Someone\",\n",
    "            \"https://upload.wikimedia.org/wikipedia/en/d/df/3_idiots_poster.jpg\",\n",
    "            \"https://www.youtube.com/watch?v=xvszmNXdM4w\")\n",
    "\n",
    "States=Movie(\"2 States\",\"Based on Novel 2 States\",\n",
    "             \"https://upload.wikimedia.org/wikipedia/en/thumb/1/12/2_States_poster.jpg/220px-2_States_poster.jpg\",\n",
    "            \"https://www.youtube.com/watch?v=CGyAaR2aWcA\")\n",
    "\n",
    "Dangal=Movie(\"Dangal\",\"Based on real story of mahaveer Singh Phogat and his daughters\",\n",
    "            \"https://upload.wikimedia.org/wikipedia/en/thumb/9/99/Dangal_Poster.jpg/220px-Dangal_Poster.jpg\",\n",
    "            \"https://www.youtube.com/watch?v=x_7YlGv9u1g\")\n",
    "\n",
    "Mary_kom=Movie(\"Mary Kom\",\"Based on real story of Boxer Mary Kom\",\n",
    "              \"https://upload.wikimedia.org/wikipedia/en/thumb/c/c8/MaryKomPoster.jpg/220px-MaryKomPoster.jpg\",\n",
    "              \"https://www.youtube.com/watch?v=OxsKcx1IwI8\")\n",
    "\n",
    "movies =[toy_story, avatar, Idiots, States, Dangal, Mary_kom]\n",
    "fresh_tomatoes.open_movies_page(movies)\n",
    "\n"
   ]
  },
  {
   "cell_type": "code",
   "execution_count": null,
   "metadata": {
    "collapsed": true
   },
   "outputs": [],
   "source": []
  },
  {
   "cell_type": "code",
   "execution_count": null,
   "metadata": {
    "collapsed": true
   },
   "outputs": [],
   "source": []
  },
  {
   "cell_type": "code",
   "execution_count": null,
   "metadata": {
    "collapsed": true
   },
   "outputs": [],
   "source": []
  },
  {
   "cell_type": "code",
   "execution_count": null,
   "metadata": {
    "collapsed": true
   },
   "outputs": [],
   "source": []
  },
  {
   "cell_type": "code",
   "execution_count": null,
   "metadata": {
    "collapsed": true
   },
   "outputs": [],
   "source": []
  }
 ],
 "metadata": {
  "anaconda-cloud": {},
  "kernelspec": {
   "display_name": "Python 3",
   "language": "python",
   "name": "python3"
  },
  "language_info": {
   "codemirror_mode": {
    "name": "ipython",
    "version": 3
   },
   "file_extension": ".py",
   "mimetype": "text/x-python",
   "name": "python",
   "nbconvert_exporter": "python",
   "pygments_lexer": "ipython3",
   "version": "3.5.2"
  }
 },
 "nbformat": 4,
 "nbformat_minor": 1
}
