{
 "cells": [
  {
   "cell_type": "code",
   "execution_count": null,
   "metadata": {
    "collapsed": false
   },
   "outputs": [],
   "source": [
    "import turtle\n",
    "def Draw_square(some_turtle):\n",
    "    for i in range (1,5):\n",
    "        some_turtle.forward(100)\n",
    "        some_turtle.right(90)\n",
    "    \n",
    "def Draw_art():\n",
    "    window=turtle.Screen()\n",
    "    window.bgcolor(\"red\")\n",
    "    \n",
    "    brad=turtle.Turtle()\n",
    "    brad.shape(\"turtle\")\n",
    "    brad.color(\"Yellow\")\n",
    "    brad.speed(2)\n",
    "    \n",
    "    for i in range(1,36):\n",
    "        Draw_square(brad)\n",
    "        brad.right(10)\n",
    "    \n",
    "    window.exitonclick()\n",
    "    \n",
    "Draw_art()"
   ]
  },
  {
   "cell_type": "code",
   "execution_count": null,
   "metadata": {
    "collapsed": false
   },
   "outputs": [],
   "source": [
    "import turtle\n",
    "def Draw_kite(some_turtle):\n",
    "    for i in range (1,3):\n",
    "        some_turtle.forward(200)\n",
    "        some_turtle.right(170)\n",
    "    \n",
    "def Draw_art():\n",
    "    window=turtle.Screen()\n",
    "    window.bgcolor(\"red\")\n",
    "    \n",
    "    brad=turtle.Turtle()\n",
    "    brad.shape(\"turtle\")\n",
    "    brad.color(\"Yellow\")\n",
    "    brad.speed(2)\n",
    "    \n",
    "    for i in range(1,36):\n",
    "        Draw_kite(brad)\n",
    "        brad.right(2)\n",
    "    \n",
    "    window.exitonclick()\n",
    "    \n",
    "Draw_art()"
   ]
  },
  {
   "cell_type": "code",
   "execution_count": null,
   "metadata": {
    "collapsed": true
   },
   "outputs": [],
   "source": []
  }
 ],
 "metadata": {
  "anaconda-cloud": {},
  "kernelspec": {
   "display_name": "Python 3",
   "language": "python",
   "name": "python3"
  },
  "language_info": {
   "codemirror_mode": {
    "name": "ipython",
    "version": 3
   },
   "file_extension": ".py",
   "mimetype": "text/x-python",
   "name": "python",
   "nbconvert_exporter": "python",
   "pygments_lexer": "ipython3",
   "version": "3.5.2"
  }
 },
 "nbformat": 4,
 "nbformat_minor": 1
}
