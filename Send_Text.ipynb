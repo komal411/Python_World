{
 "cells": [
  {
   "cell_type": "code",
   "execution_count": null,
   "metadata": {
    "collapsed": true
   },
   "outputs": [],
   "source": [
    "from twilio.rest import TwilioRestClient\n",
    "\n",
    "account_sid = \"AC5726871ded5de66d0de3a03122a3415d\" # Your Account SID from www.twilio.com/console\n",
    "auth_token  = \"f8bff57215c22a699e7bbc40cf1d6c10\"  # Your Auth Token from www.twilio.com/console\n",
    "\n",
    "client = TwilioRestClient(account_sid, auth_token)\n",
    "\n",
    "message = client.messages.create(body=\"Hello from Python\",\n",
    "    to=\"+91\",    # Replace with your phone number\n",
    "    from_=\"+919940499168\") # Replace with your Twilio number\n",
    "\n",
    "print(message.sid)"
   ]
  }
 ],
 "metadata": {
  "anaconda-cloud": {},
  "kernelspec": {
   "display_name": "Python 3",
   "language": "python",
   "name": "python3"
  },
  "language_info": {
   "codemirror_mode": {
    "name": "ipython",
    "version": 3
   },
   "file_extension": ".py",
   "mimetype": "text/x-python",
   "name": "python",
   "nbconvert_exporter": "python",
   "pygments_lexer": "ipython3",
   "version": "3.5.2"
  }
 },
 "nbformat": 4,
 "nbformat_minor": 1
}
