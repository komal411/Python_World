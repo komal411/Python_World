{
 "cells": [
  {
   "cell_type": "code",
   "execution_count": 2,
   "metadata": {
    "collapsed": true
   },
   "outputs": [],
   "source": [
    "import turtle\n",
    "def Draw_Flower():\n",
    "    window=turtle.Screen()\n",
    "    window.bgcolor(\"red\")\n",
    "    petals=36\n",
    "    rhombus=45\n",
    "    size=60\n",
    "    ab=turtle.Turtle()\n",
    "    ab.shape(\"circle\")\n",
    "    ab.color(\"Yellow\")\n",
    "    ab.speed(0)\n",
    "    ab.setheading(270)\n",
    "    \n",
    "    for i in range(0,petals):\n",
    "        oblique=True\n",
    "        for x in range (0,4):\n",
    "            ab.forward(size)\n",
    "            if (oblique):\n",
    "                ab.right(90-rhombus)\n",
    "                oblique=False\n",
    "            else:\n",
    "                ab.right(90+rhombus)\n",
    "                oblique=True\n",
    "        ab.right(360/petals)\n",
    "    ab.forward(size*5)\n",
    "    \n",
    "    window.exitonclick()\n",
    "    \n",
    "    Draw_Flower()\n",
    "        \n",
    "        \n",
    "    \n"
   ]
  },
  {
   "cell_type": "code",
   "execution_count": null,
   "metadata": {
    "collapsed": true
   },
   "outputs": [],
   "source": []
  }
 ],
 "metadata": {
  "anaconda-cloud": {},
  "kernelspec": {
   "display_name": "Python 3",
   "language": "python",
   "name": "python3"
  },
  "language_info": {
   "codemirror_mode": {
    "name": "ipython",
    "version": 3
   },
   "file_extension": ".py",
   "mimetype": "text/x-python",
   "name": "python",
   "nbconvert_exporter": "python",
   "pygments_lexer": "ipython3",
   "version": "3.5.2"
  }
 },
 "nbformat": 4,
 "nbformat_minor": 1
}
