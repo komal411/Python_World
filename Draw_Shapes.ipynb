{
 "cells": [
  {
   "cell_type": "code",
   "execution_count": null,
   "metadata": {
    "collapsed": false
   },
   "outputs": [],
   "source": [
    "import turtle\n",
    "def Draw_shapes():\n",
    "    window=turtle.Screen()\n",
    "    window.bgcolor(\"black\")\n",
    "#     window.exitonclick()\n",
    "    brad=turtle.Turtle()\n",
    "    brad.shape(\"turtle\")\n",
    "    brad.color(\"Yellow\")\n",
    "    brad.speed(2)\n",
    "\n",
    "    brad.pu()\n",
    "    brad.setpos(-50,0)\n",
    "    brad.pd()\n",
    "    brad.left(90)\n",
    "    brad.forward(100)\n",
    "    brad.right(90)\n",
    "    brad.seth(0)\n",
    "        \n",
    "    angie=turtle.Turtle()\n",
    "    angie.shape(\"arrow\")\n",
    "    angie.color(\"blue\")\n",
    "    angie.circle(100)\n",
    "    \n",
    "    akki=turtle.Turtle()\n",
    "    akki.shape(\"turtle\")\n",
    "    akki.color(\"Yellow\")\n",
    "    akki.speed(2)\n",
    "    j=0\n",
    "    while (j<3):\n",
    "        akki.forward(100)\n",
    "        akki.right(120)\n",
    "        j=j+1\n",
    "    akki.forward(100)  \n",
    "    window.exitonclick()\n",
    "    \n",
    "Draw_shapes()\n",
    "#Draw_circle()"
   ]
  },
  {
   "cell_type": "code",
   "execution_count": null,
   "metadata": {
    "collapsed": false
   },
   "outputs": [],
   "source": [
    "window=turtle.Screen()\n",
    "window.bgcolor(\"black\")\n",
    "    \n",
    "brad=turtle.Turtle()\n",
    "brad=turtle.Turtle()\n",
    "brad.shape(\"turtle\")\n",
    "brad.color(\"Yellow\")\n",
    "brad.speed(2)\n",
    "    \n",
    "brad.forward(100)\n",
    "brad.right(90)\n",
    "brad.forward(100)\n",
    "brad.right(90)\n",
    "brad.forward(100)\n",
    "brad.right(90)\n",
    "brad.forward(100)\n",
    "brad.right(90)\n",
    "window.exitonclick()"
   ]
  },
  {
   "cell_type": "code",
   "execution_count": null,
   "metadata": {
    "collapsed": true
   },
   "outputs": [],
   "source": []
  },
  {
   "cell_type": "code",
   "execution_count": null,
   "metadata": {
    "collapsed": false
   },
   "outputs": [],
   "source": []
  },
  {
   "cell_type": "code",
   "execution_count": null,
   "metadata": {
    "collapsed": true
   },
   "outputs": [],
   "source": []
  }
 ],
 "metadata": {
  "anaconda-cloud": {},
  "kernelspec": {
   "display_name": "Python 3",
   "language": "python",
   "name": "python3"
  },
  "language_info": {
   "codemirror_mode": {
    "name": "ipython",
    "version": 3
   },
   "file_extension": ".py",
   "mimetype": "text/x-python",
   "name": "python",
   "nbconvert_exporter": "python",
   "pygments_lexer": "ipython3",
   "version": "3.5.2"
  }
 },
 "nbformat": 4,
 "nbformat_minor": 0
}
